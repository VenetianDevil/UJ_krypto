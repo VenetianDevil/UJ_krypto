{
 "cells": [
  {
   "cell_type": "markdown",
   "metadata": {
    "id": "HeeIlZSQ1eee"
   },
   "source": [
    "# Lista 9 (9 pkt.)"
   ]
  },
  {
   "cell_type": "code",
   "execution_count": 1,
   "metadata": {
    "id": "3GtRQevv1eeh"
   },
   "outputs": [],
   "source": [
    "import numpy as np\n",
    "import hashlib\n",
    "import matplotlib.pyplot as plt"
   ]
  },
  {
   "cell_type": "code",
   "execution_count": 2,
   "metadata": {
    "id": "0uui8ike1eei",
    "outputId": "3d8b8fe0-db75-4611-8531-2d344931363a"
   },
   "outputs": [
    {
     "name": "stdout",
     "output_type": "stream",
     "text": [
      "True\n",
      "True\n",
      "True\n",
      "True\n",
      "True\n",
      "True\n",
      "True\n",
      "True\n",
      "True\n",
      "True\n",
      "[ True  True  True  True]\n",
      "[ True  True  True  True]\n",
      "[ True  True  True  True  True  True]\n",
      "True\n",
      "True\n",
      "True\n",
      "True\n",
      "True\n",
      "True\n",
      "True\n",
      "True\n",
      "True\n",
      "True\n",
      "True\n",
      "True\n",
      "True\n",
      "True\n",
      "True\n",
      "True\n",
      "True\n",
      "True\n",
      "True\n",
      "True\n",
      "True\n",
      "True\n",
      "True\n",
      "True\n",
      "True\n",
      "True\n",
      "True\n",
      "True\n",
      "True\n",
      "True\n",
      "True\n",
      "('1111011', '1')\n",
      "('11110110', '1')\n",
      "True\n",
      "True\n",
      "True\n",
      "True\n",
      "True\n",
      "True\n",
      "True\n",
      "True\n",
      "True\n",
      "True\n",
      "True\n",
      "True\n",
      "wrong: 0\n",
      "True\n",
      "True\n",
      "True\n",
      "True\n",
      "True\n",
      "True\n",
      "True\n",
      "True\n",
      "True\n",
      "True\n",
      "True\n",
      "True\n",
      "6 8\n",
      "13 13 True\n",
      "True\n",
      "True\n",
      "True\n",
      "True\n",
      "True\n",
      "True\n",
      "True\n",
      "True\n",
      "True\n",
      "True\n",
      "True\n",
      "True\n",
      "True\n",
      "True\n",
      "True\n",
      "True\n"
     ]
    }
   ],
   "source": [
    "from ipynb.fs.full.Lista3 import xor, DES, key_schedule\n",
    "from ipynb.fs.full.Lista4 import add_GF\n",
    "from ipynb.fs.full.Lista5 import hex2bin\n",
    "from ipynb.fs.full.Lista7 import gcdExtended, enc, dec, key_gen"
   ]
  },
  {
   "cell_type": "markdown",
   "metadata": {
    "id": "TRmMh8471eej"
   },
   "source": [
    "## Zadanie 1 (1 pkt.)"
   ]
  },
  {
   "cell_type": "markdown",
   "metadata": {
    "id": "V83uQa7p1eek"
   },
   "source": [
    "Wczytaj dwa obrazki: 'Campin_Boze_Narodzenie1.png' oraz 'Campin_Boze_Narodzenie2.png' jeden z nich jest zgodny z oryginałem obrazu Roberta Campin a drugi jest lekko zmodyfikowany, rozponaj prawdziwy obraz obliczając jego funkcję skrótu SHA-256 i porównując ją do skrótu podanego poniżej (w postaci szesnastkowej), który odpowiada oryginałowi:"
   ]
  },
  {
   "cell_type": "code",
   "execution_count": 3,
   "metadata": {
    "id": "TJbEkQsm1eek"
   },
   "outputs": [],
   "source": [
    "hash_original='2d08246bbb3a8f6b0c16b8d8effd2c783233a6a174496731dfff887bb41bc7e7'"
   ]
  },
  {
   "cell_type": "markdown",
   "metadata": {
    "id": "f1guKfZx1eel"
   },
   "source": [
    "Obrazek wczytaj za pomocą:"
   ]
  },
  {
   "cell_type": "code",
   "execution_count": 4,
   "metadata": {
    "id": "7MgvKO4x1eel"
   },
   "outputs": [],
   "source": [
    "file1 = open('Campin_Boze_Narodzenie1.png','rb')\n",
    "obraz1=file1.read()\n",
    "file1.close()"
   ]
  },
  {
   "cell_type": "code",
   "execution_count": 5,
   "metadata": {
    "id": "2O5Hqpb21eem"
   },
   "outputs": [],
   "source": [
    "file2 = open('Campin_Boze_Narodzenie2.png','rb')\n",
    "obraz2=file2.read()\n",
    "file2.close()"
   ]
  },
  {
   "cell_type": "markdown",
   "metadata": {
    "id": "YF65P5F51eem"
   },
   "source": [
    "'rb' w powyższej funkcji oznacza, że odczytujemy binarną postać obrazu. Podobnie wczytaj drugi obraz. Do policzenia funkcji skrótu użyj biblioteki hashlib: https://docs.python.org/3/library/hashlib.html"
   ]
  },
  {
   "cell_type": "code",
   "execution_count": 6,
   "metadata": {
    "id": "mS2cKXXp1eem",
    "outputId": "d94e7d40-5256-4797-9cc4-63dbd4625d7b"
   },
   "outputs": [
    {
     "name": "stdout",
     "output_type": "stream",
     "text": [
      "True\n"
     ]
    }
   ],
   "source": [
    "print(hashlib.sha256(obraz1).hexdigest()==hash_original) # obraz 1"
   ]
  },
  {
   "cell_type": "code",
   "execution_count": 7,
   "metadata": {
    "id": "wvkt7zk81een",
    "outputId": "274a1c88-cc07-435a-c229-9d69e8c52d03"
   },
   "outputs": [
    {
     "name": "stdout",
     "output_type": "stream",
     "text": [
      "False\n"
     ]
    }
   ],
   "source": [
    "print(hashlib.sha256(obraz2).hexdigest()==hash_original)"
   ]
  },
  {
   "cell_type": "markdown",
   "metadata": {
    "id": "hpHMuGGk1een"
   },
   "source": [
    "## Zadanie 2 (2 pkt.)"
   ]
  },
  {
   "cell_type": "markdown",
   "metadata": {
    "id": "ePecF27j1een"
   },
   "source": [
    "Zaimplementuj funkcję **rho_pollard()** znajdującą kolizje w funkcji skrótu za pomocą agorytmu rho Pollarda. Wypisz przykładowe pary argumentów, które mają taki sam skrót dla funkcji **simple_hash()**, która przyjmuje liczbę zapisaną szesnastkowo w postaci stringu i zwraca hash w postaci stringu z zapisem szesnastkowym."
   ]
  },
  {
   "cell_type": "code",
   "execution_count": 8,
   "metadata": {
    "id": "ASG2KZk_1eeo"
   },
   "outputs": [],
   "source": [
    "def rho_pollard(n):\n",
    "    x=2\n",
    "    y=2\n",
    "    d=1\n",
    "    \n",
    "    i=0\n",
    "#     while d==1:\n",
    "    while i<30:\n",
    "        x = int(simple_hash(hex(x)),16)\n",
    "        y = int(simple_hash(simple_hash(hex(y))), 16)\n",
    "#         print(x, y, abs(x-y), n)\n",
    "        d,_,_ = gcdExtended(abs(x-y), n)\n",
    "        i+=1\n",
    "        if d!=1 and x!=y:\n",
    "            print(x, y)\n",
    "        \n",
    "    if d==n:\n",
    "        return False\n",
    "    \n",
    "#     print(x, y)\n",
    "    return d"
   ]
  },
  {
   "cell_type": "code",
   "execution_count": 9,
   "metadata": {
    "id": "HEecwASJ1eeo"
   },
   "outputs": [],
   "source": [
    "def simple_hash(str):\n",
    "    m = hashlib.sha256()\n",
    "    m.update(bytes(int(str,16)))\n",
    "    return m.hexdigest()[:2]"
   ]
  },
  {
   "cell_type": "code",
   "execution_count": 10,
   "metadata": {
    "id": "hhF8Q0ia1eeo",
    "outputId": "30141bfc-d891-4dca-9ba7-e9cb260fd435"
   },
   "outputs": [
    {
     "name": "stdout",
     "output_type": "stream",
     "text": [
      "1 123\n",
      "110 245\n",
      "242 150\n",
      "253 17\n",
      "64 124\n",
      "1 123\n",
      "110 245\n",
      "242 150\n",
      "253 17\n",
      "64 124\n",
      "1\n"
     ]
    }
   ],
   "source": [
    "print(rho_pollard(200))"
   ]
  },
  {
   "cell_type": "markdown",
   "metadata": {
    "id": "_zXofm8r1eep"
   },
   "source": [
    "## Zadanie 3 (2 pkt.)"
   ]
  },
  {
   "cell_type": "markdown",
   "metadata": {
    "id": "lQnvD7ur1eep"
   },
   "source": [
    "Napisz funkcję **HMAC(K,M)**, która przyjmuje klucz oraz wiadomość a zwraca kod HMAC, wszystko w postaci stringu bitów. Funkcja **hash()** to funkcja SHA256 ale przyjmująca i zwracająca dane w postaci stringu bitów. Przyjmij długość bloku 64 bity (przypadek DESa)."
   ]
  },
  {
   "cell_type": "code",
   "execution_count": 11,
   "metadata": {
    "id": "sfXIvuTp1eep"
   },
   "outputs": [],
   "source": [
    "def HMAC(K,M):\n",
    "    b=64\n",
    "    ipad = \"00110110\" * 8\n",
    "    opad = \"01011100\" * 8\n",
    "    \n",
    "    Si = xor(K, ipad)\n",
    "    So = xor(K, opad)\n",
    "    \n",
    "    MD_ = hash(\"\".join([Si, M])).zfill(b)\n",
    "    MD = hash(\"\".join([So, MD_]))\n",
    "\n",
    "    return MD"
   ]
  },
  {
   "cell_type": "code",
   "execution_count": 12,
   "metadata": {
    "id": "QhxDbsFb1eep"
   },
   "outputs": [],
   "source": [
    "def hash(i):\n",
    "    m = hashlib.sha256()\n",
    "    m.update(int(i,2).to_bytes(len(i),'little'))\n",
    "    return format(int(m.hexdigest(),16),'0256b')"
   ]
  },
  {
   "cell_type": "code",
   "execution_count": 13,
   "metadata": {
    "id": "gIwaeOsK1eeq",
    "outputId": "dd71337b-77ca-4bcf-e8fb-117a6f90e313"
   },
   "outputs": [
    {
     "name": "stdout",
     "output_type": "stream",
     "text": [
      "True\n",
      "True\n",
      "True\n"
     ]
    }
   ],
   "source": [
    "print(HMAC('0010111000111100100000001100001000110000100011001110011110010000','0100011001010010011011010100100100011101011101111011010000101010')\n",
    "    == '1101011010010010001001010001100000001011000100001100101110111010000001000000110000001111011111110101011101111010110111001111001001001010000011110101110101010000100011110100101000111001000111000011111000011111001001110000110001111100110011110010100110000100')\n",
    "print(HMAC('1000110000100011001111011101000000010001110101110011101011000110','1100110101011010110010110011001001010000000000111000011011000011')\n",
    "    == '0100010101000110011101000100111010101111011110001010001001011000010001011100010100000000010010110000100010010101011011000010111000001110000101100011101100111111001000101101110011101100001111000000011111011111100001010111010011010010101100010101011100111010')\n",
    "print(HMAC('0010100101111010101111100000101110110001011111100101000010001010','1110001110111101101100001010001110011101011111101010110011000000')\n",
    "    == '1101010101011101110011000000111100111100100100011001011000001011101001100011011011010100110100010110101100000011010100000100111100111111100001110100000100100111100011111011000110101010000101110001110111101110011001000010001001001010010011000000111000011111')"
   ]
  },
  {
   "cell_type": "markdown",
   "metadata": {
    "id": "Zss-_XI11eeq"
   },
   "source": [
    "Zmienne **msg_enc1** oraz **msg_enc2** zawierają dwie wiadomości. Jedna z nich jest poprawna druga ma zmieniony jeden bit. Wiemy, że wiadomośc zaszyfrowano za pomocą DESa z kluczem **key** i nadawca dodał do niej kod HMAC zawarty w zmiennej $hmac$. Sprawdź, która z otrzymanych wiadomości jest poprawna."
   ]
  },
  {
   "cell_type": "code",
   "execution_count": 14,
   "metadata": {
    "id": "7vK-d3sC1eeq"
   },
   "outputs": [],
   "source": [
    "msg_enc1 = '0110011010100110101010011000011111010000110111011011110110110101'\n",
    "msg_enc2 = '0110011010100110101010011000011111010000110111010011110110110101'\n",
    "key = '0001101100001110010010101101001101101010000100100000100001101100'"
   ]
  },
  {
   "cell_type": "code",
   "execution_count": 15,
   "metadata": {
    "id": "YBO8MBtA1eeq"
   },
   "outputs": [],
   "source": [
    "hmac = '1010011101011000110010101011100100001001110111010000110100110111001001110010001101001010000011010001001101010100000010100111110010101011001101001010101100110110000101101110100000010001101011011011110011110111011100110000011010110001110000011000011100101001'"
   ]
  },
  {
   "cell_type": "code",
   "execution_count": 16,
   "metadata": {
    "id": "7H0nTYx_1eer",
    "outputId": "698c6ac5-d650-489a-9cd4-5e81b9786090"
   },
   "outputs": [
    {
     "data": {
      "text/plain": [
       "True"
      ]
     },
     "execution_count": 16,
     "metadata": {},
     "output_type": "execute_result"
    }
   ],
   "source": [
    "HMAC(key, msg_enc1) == hmac"
   ]
  },
  {
   "cell_type": "code",
   "execution_count": 17,
   "metadata": {
    "id": "OVYssUGG1eer",
    "outputId": "fcb5691f-cf27-4e94-eeaf-43a017c3f4d0"
   },
   "outputs": [
    {
     "data": {
      "text/plain": [
       "False"
      ]
     },
     "execution_count": 17,
     "metadata": {},
     "output_type": "execute_result"
    }
   ],
   "source": [
    "HMAC(key, msg_enc2) == hmac"
   ]
  },
  {
   "cell_type": "markdown",
   "metadata": {
    "id": "cpBAy7b81eer"
   },
   "source": [
    "## Zadanie 4 (2 pkt.)"
   ]
  },
  {
   "cell_type": "markdown",
   "metadata": {
    "id": "BPTt0HtP1eer"
   },
   "source": [
    "Napisz funkcję **sign(file_name, e, n)** generującą podpis elektroniczny pliku, gdzie **file_name** to nazwa pliku, $e$ i $n$ to klucz prywatny algorymtu RSA, oznaczenia jak na liście 7., funkcja ma zwracać podpis w postaci stringu z zapisem szesnastkowym."
   ]
  },
  {
   "cell_type": "code",
   "execution_count": 18,
   "metadata": {
    "id": "Cm9-xbX41eer"
   },
   "outputs": [],
   "source": [
    "def sign(file_name, e, n):\n",
    "    file = open(file_name,'rb')\n",
    "    data = file.read()\n",
    "    file.close()\n",
    "    \n",
    "    hash_val = hashlib.sha256(data).hexdigest()\n",
    "    result = enc(int(hash_val,16), e, n)\n",
    "    return f'{result:0x}' #na zapis hex"
   ]
  },
  {
   "cell_type": "markdown",
   "metadata": {
    "id": "8Q5OcgDb1eer"
   },
   "source": [
    "Napisz funkcję **check_sign(file_name, d, n, sign)** weryfikującą autentyczność podpisu, gdzie **file_name** to nazwa pliku $d$ i $n$ to klucz publiczny autora podpisu a $sign$ to podpis, funkcja ma zwracać **True** lub **False**."
   ]
  },
  {
   "cell_type": "code",
   "execution_count": 19,
   "metadata": {
    "id": "Rv3AkIPl1ees"
   },
   "outputs": [],
   "source": [
    "def check_sign(file_name, d, n, sign):\n",
    "    file = open(file_name, 'rb')\n",
    "    data = file.read()\n",
    "    data_hex = data.hex()\n",
    "    file.close()\n",
    "    \n",
    "    hash_val = hashlib.sha256(data).hexdigest()\n",
    "    dec_val = dec(int(sign,16), d, n)\n",
    "    return hash_val == f'{dec_val:0x}'"
   ]
  },
  {
   "cell_type": "markdown",
   "metadata": {
    "id": "q9dXXPcf1ees"
   },
   "source": [
    "Wygeneruj klucze RSA z liczb pierwszych $p$ i $q$ i użyj ich w testach."
   ]
  },
  {
   "cell_type": "code",
   "execution_count": 20,
   "metadata": {
    "id": "YtOWOFYT1ees"
   },
   "outputs": [],
   "source": [
    "p=24130780476900131841553779066939443255102203937160657723394451174808141403858935238883126295228560935516885174421847238379397184900972008801015315248328437\n",
    "q=26660613491521684005574100352062919789979599401844483402246984186988668019447679726081352452799126206997555710356464145743285983450292024894053538317854159"
   ]
  },
  {
   "cell_type": "code",
   "execution_count": 21,
   "metadata": {
    "id": "reW8EkjM1ees"
   },
   "outputs": [],
   "source": [
    "n, e, d = key_gen(p, q)"
   ]
  },
  {
   "cell_type": "code",
   "execution_count": 22,
   "metadata": {
    "id": "-OEhgGIf1ees",
    "outputId": "fcc06644-396d-427f-83cd-7992124840fc"
   },
   "outputs": [
    {
     "name": "stdout",
     "output_type": "stream",
     "text": [
      "True\n",
      "True\n"
     ]
    }
   ],
   "source": [
    "print(sign('correlation.png',e,n)=='1d5e7cd47f75b13159a37c8ffb3ba7d9f43a21f4758ae06e856da0a468fd1772f7b8b52d0f948fd02610e0e05a54c0fff12d7bd27575583cfdf53b124e9c0e95df1de156aa0af52239f1329ab69000b4a6a61d3d45f190c4b9df4ca4b7d30904162727353a8fb09c9faf847eeb0f6f65394d92cb57ced2cdcff36c444394e3fff')\n",
    "print(sign('Campin_Boze_Narodzenie1.png',e,n)=='1c6097177871bb4873fcd0ae658d28f46fcc54e4b0e595954a57c0008f8b86c7427cecf28296240025941fe2a019b80fcc5f43c4cae6b1d2163cecf8438336d3da6e33ae326dfa2c0e5ea7bbad511dd140bc7b0cd34829623bfd02bc66bc9b43d57443b7fd950bea5cb5f5df99d8611eeb0d4458b19809e3ff86abf6538c3e453')"
   ]
  },
  {
   "cell_type": "code",
   "execution_count": 23,
   "metadata": {
    "id": "xofscB2J1eet",
    "outputId": "a652d037-2e23-4285-a0ea-753a67581a95"
   },
   "outputs": [
    {
     "name": "stdout",
     "output_type": "stream",
     "text": [
      "True\n",
      "True\n",
      "True\n",
      "True\n"
     ]
    }
   ],
   "source": [
    "print(check_sign('correlation.png',d,n,'1d5e7cd47f75b13159a37c8ffb3ba7d9f43a21f4758ae06e856da0a468fd1772f7b8b52d0f948fd02610e0e05a54c0fff12d7bd27575583cfdf53b124e9c0e95df1de156aa0af52239f1329ab69000b4a6a61d3d45f190c4b9df4ca4b7d30904162727353a8fb09c9faf847eeb0f6f65394d92cb57ced2cdcff36c444394e3fff')==True)\n",
    "print(check_sign('correlation.png',d,n,'1d5e7cd47f75b13159a37c8ffb3ba7d9f43a21f4758ae06e856ba0a468fd1772f7b8b52d0f948fd02610e0e05a54c0fff12d7bd27575583cfdf53b124e9c0e95df1de156aa0af52239f1329ab69000b4a6a61d3d45f190c4b9df4ca4b7d30904162727353a8fb09c9faf847eeb0f6f65394d92cb57ced2cdcff36c444394e3fff')==False)\n",
    "print(check_sign('Campin_Boze_Narodzenie1.png',d,n,'1c6097177871bb4873fcd0ae658d28f46fcc54e4b0e595954a57c0008f8b86c7427cecf28296240025941fe2a019b80fcc5f43c4cae6b1d2163cecf8438336d3da6e33ae326dfa2c0e5ea7bbad511dd140bc7b0cd34829623bfd02bc66bc9b43d57443b7fd950bea5cb5f5df99d8611eeb0d4458b19809e3ff86abf6538c3e453')==True)\n",
    "print(check_sign('Campin_Boze_Narodzenie1.png',d,n,'1c6097177871bb4873fcd0ae658d28f46fec54e4b0e595954a57c0008f8b86c7427cecf28296240025941fe2a019b80fcc5f43c4cae6b1d2163cecf8438336d3da6e33ae326dfa2c0e5ea7bbad511dd140bc7b0cd34829623bfd02bc66bc9b43d57443b7fd950bea5cb5f5df99d8611eeb0d4458b19809e3ff86abf6538c3e453')==False)"
   ]
  },
  {
   "cell_type": "markdown",
   "metadata": {
    "id": "v2YAYBO71eet"
   },
   "source": [
    "## Zadanie 5 (2 pkt.)"
   ]
  },
  {
   "cell_type": "markdown",
   "metadata": {
    "id": "WfxTwzA11eet"
   },
   "source": [
    "\"Kopanie\" Bitcoina polega w uproszczeniu na szukaniu liczby dla której funkcja skrótu zwraca wartość mniejszą niż pewien próg, tzn. wartośc funkcji skrótu musi zaczynać się odpowiednią liczbą zer w zapisie bitowym. Jako, że funkcja skrótu ma właściwości pseudolosowe, szukamy tej liczby sprawdzając po kolei wszystkie liczby. Napisz funkcję **mine(d)**, szukającą takiej liczby $i$ dla której **SHA256(i)** zaczyna się w zapisie bitowym $d$ zerami. Podstawiaj kolejno liczby $0,1,2,3,...$. Funkcja ma zwracać liczbę dla której udało się spełnić warunek.\n",
    "\n",
    "Uwaga: aby podać zmienną typu **int** jako argument do hashlib.sha256() należy przekonwerstować ją za pomocą **bytes()**"
   ]
  },
  {
   "cell_type": "code",
   "execution_count": 24,
   "metadata": {
    "id": "0vPbpBrG1eet"
   },
   "outputs": [],
   "source": [
    "def mine(diff, rand=False):\n",
    "    begining = '0' * diff + '1'\n",
    "\n",
    "    x = 0\n",
    "    if rand:\n",
    "      x = np.random.randint(0, high=diff**4 + 2)\n",
    "    x_hash = hashlib.sha256( bytes(x) ).hexdigest()\n",
    "    b = hex2bin( x_hash, len(x_hash)*4 )\n",
    "\n",
    "    print(x, b[0:diff], begining, b[0:diff] == begining)\n",
    "    \n",
    "    while b[0:diff+1] != begining:\n",
    "        x += 1\n",
    "        if rand:\n",
    "          x = np.random.randint(0, high=diff**4 + 2)\n",
    "        \n",
    "        x_hash = hashlib.sha256( bytes(x) ).hexdigest()\n",
    "        b = hex2bin( x_hash, len(x_hash)*4 )\n",
    "        \n",
    "        while x > 10**6:\n",
    "            x = np.random.randint(0, high=diff**6 + 2)\n",
    "            # raise ArithmeticError('Too big to calculate')\n",
    "          \n",
    "    print(\"diff=\", diff, \"x=\", x, \"b[0:diff]=\", b[0:diff])\n",
    "    return(x)"
   ]
  },
  {
   "cell_type": "markdown",
   "metadata": {
    "id": "XcqTAuc81eeu"
   },
   "source": [
    "Wykonaj funkcję **mine(d)** dla kilkunastu wartości $d$ i narysuj wykres **plt.scatter()** zależności **i(d)**.\n",
    "\n",
    "Uwaga: użyj skali logarytmicznej **plt.yscale('symlog')**.\n",
    "\n",
    "Zastanów się ile teoretycznie (średnio) należy wykonać prób aby znaleźć funkcję skrótu z $d$ zerami na początku. Narysuj na wykresie linię obrazującą tą zależność i porównaj z punktami uzyskanymi z funkcji **mine()**."
   ]
  },
  {
   "cell_type": "code",
   "execution_count": 25,
   "metadata": {
    "colab": {
     "base_uri": "https://localhost:8080/"
    },
    "id": "EkcP_KUK1eeu",
    "outputId": "19899ba6-df6d-4d6d-8fd7-61b5a12c56cc"
   },
   "outputs": [
    {
     "name": "stdout",
     "output_type": "stream",
     "text": [
      "0  1 False\n",
      "diff= 0 x= 0 b[0:diff]= \n",
      "0 1 01 False\n",
      "diff= 1 x= 1 b[0:diff]= 0\n",
      "0 11 001 False\n",
      "diff= 2 x= 9 b[0:diff]= 00\n",
      "0 111 0001 False\n",
      "diff= 3 x= 12 b[0:diff]= 000\n",
      "0 1110 00001 False\n",
      "diff= 4 x= 17 b[0:diff]= 0000\n",
      "0 11100 000001 False\n",
      "diff= 5 x= 30 b[0:diff]= 00000\n",
      "0 111000 0000001 False\n",
      "diff= 6 x= 55 b[0:diff]= 000000\n",
      "0 1110001 00000001 False\n",
      "diff= 7 x= 10 b[0:diff]= 0000000\n",
      "0 11100011 000000001 False\n",
      "diff= 8 x= 83 b[0:diff]= 00000000\n",
      "0 111000111 0000000001 False\n",
      "diff= 9 x= 621 b[0:diff]= 000000000\n",
      "0 1110001110 00000000001 False\n",
      "diff= 10 x= 2202 b[0:diff]= 0000000000\n",
      "0 11100011101 000000000001 False\n",
      "diff= 11 x= 1083 b[0:diff]= 00000000000\n",
      "0 111000111011 0000000000001 False\n",
      "diff= 12 x= 3692 b[0:diff]= 000000000000\n",
      "0 1110001110110 00000000000001 False\n",
      "diff= 13 x= 15212 b[0:diff]= 0000000000000\n",
      "0 11100011101100 000000000000001 False\n",
      "diff= 14 x= 30979 b[0:diff]= 00000000000000\n",
      "0 111000111011000 0000000000000001 False\n",
      "diff= 15 x= 4117 b[0:diff]= 000000000000000\n"
     ]
    }
   ],
   "source": [
    "x = []\n",
    "y = []\n",
    "\n",
    "for diff in range(16):\n",
    "    val = mine(diff)\n",
    "    x.append(diff)\n",
    "    y.append(val)"
   ]
  },
  {
   "cell_type": "code",
   "execution_count": 26,
   "metadata": {
    "colab": {
     "base_uri": "https://localhost:8080/",
     "height": 268
    },
    "id": "RpTHjmw31eeu",
    "outputId": "6ea3536a-204f-46be-f244-0b364bc6c612"
   },
   "outputs": [
    {
     "data": {
      "image/png": "[encoded data removed]",
      "text/plain": [
       "<Figure size 432x288 with 1 Axes>"
      ]
     },
     "metadata": {
      "needs_background": "light"
     },
     "output_type": "display_data"
    }
   ],
   "source": [
    "plt.yscale('symlog')\n",
    "plt.scatter(x, y, facecolors='none', edgecolors='b')\n",
    "z = np.linspace(0,16);\n",
    "plt.plot(z, 2**z)\n",
    "plt.show()"
   ]
  },
  {
   "cell_type": "markdown",
   "metadata": {
    "id": "pN3Egr5Q_bAS"
   },
   "source": [
    "Powtórz pomiary, ale zamiast brać kolejne liczby, bierz losowe. Sprawdź czy daje to lepsze rezultaty."
   ]
  },
  {
   "cell_type": "code",
   "execution_count": 27,
   "metadata": {
    "colab": {
     "base_uri": "https://localhost:8080/",
     "height": 824
    },
    "id": "sjC_WLUg_cFr",
    "outputId": "e6f140f8-621b-4a14-b270-f2ae3b6a258e"
   },
   "outputs": [
    {
     "name": "stdout",
     "output_type": "stream",
     "text": [
      "0  1 False\n",
      "diff= 0 x= 0 b[0:diff]= \n",
      "2 1 01 False\n",
      "diff= 1 x= 1 b[0:diff]= 0\n",
      "12 00 001 False\n",
      "diff= 2 x= 9 b[0:diff]= 00\n",
      "19 110 0001 False\n",
      "diff= 3 x= 47 b[0:diff]= 000\n",
      "167 0000 00001 False\n",
      "diff= 4 x= 167 b[0:diff]= 0000\n",
      "432 00011 000001 False\n",
      "diff= 5 x= 404 b[0:diff]= 00000\n",
      "981 111110 0000001 False\n",
      "diff= 6 x= 55 b[0:diff]= 000000\n",
      "578 1011100 00000001 False\n",
      "diff= 7 x= 1126 b[0:diff]= 0000000\n",
      "1280 10111111 000000001 False\n",
      "diff= 8 x= 1586 b[0:diff]= 00000000\n",
      "818 111000001 0000000001 False\n",
      "diff= 9 x= 1929 b[0:diff]= 000000000\n",
      "7631 1100010110 00000000001 False\n",
      "diff= 10 x= 6016 b[0:diff]= 0000000000\n",
      "8559 11101110111 000000000001 False\n",
      "diff= 11 x= 11069 b[0:diff]= 00000000000\n",
      "6290 010001101101 0000000000001 False\n",
      "diff= 12 x= 3692 b[0:diff]= 000000000000\n",
      "10071 1010111101011 00000000000001 False\n",
      "diff= 13 x= 23280 b[0:diff]= 0000000000000\n",
      "37982 00000101000011 000000000000001 False\n",
      "diff= 14 x= 30979 b[0:diff]= 00000000000000\n",
      "48461 001101001101010 0000000000000001 False\n",
      "diff= 15 x= 4117 b[0:diff]= 000000000000000\n"
     ]
    },
    {
     "data": {
      "image/png": "[encoded data removed]",
      "text/plain": [
       "<Figure size 432x288 with 1 Axes>"
      ]
     },
     "metadata": {
      "needs_background": "light"
     },
     "output_type": "display_data"
    }
   ],
   "source": [
    "x = []\n",
    "y = []\n",
    "\n",
    "for diff in range(16):\n",
    "    val = mine(diff, rand=True)\n",
    "    x.append(diff)\n",
    "    y.append(val)\n",
    "    \n",
    "plt.yscale('symlog')\n",
    "plt.scatter(x, y, facecolors='none', edgecolors='b')\n",
    "\n",
    "plt.plot(z, 2**z)\n",
    "plt.show()\n"
   ]
  }
 ],
 "metadata": {
  "accelerator": "GPU",
  "colab": {
   "provenance": []
  },
  "gpuClass": "standard",
  "kernelspec": {
   "display_name": "Python 3",
   "language": "python",
   "name": "python3"
  },
  "language_info": {
   "codemirror_mode": {
    "name": "ipython",
    "version": 3
   },
   "file_extension": ".py",
   "mimetype": "text/x-python",
   "name": "python",
   "nbconvert_exporter": "python",
   "pygments_lexer": "ipython3",
   "version": "3.6.9"
  },
  "vscode": {
   "interpreter": {
    "hash": "96ad6c7fd9d06889208fc918e485ee5403ac6f6c27ad3f857e9a26d0c3a3092d"
   }
  }
 },
 "nbformat": 4,
 "nbformat_minor": 1
}
