{
 "cells": [
  {
   "cell_type": "code",
   "execution_count": 1,
   "metadata": {},
   "outputs": [],
   "source": [
    "import numpy as np\n",
    "import matplotlib.pyplot as plt"
   ]
  },
  {
   "cell_type": "markdown",
   "metadata": {},
   "source": [
    "# Lista 12 cz. 2. (5 pkt.)"
   ]
  },
  {
   "cell_type": "markdown",
   "metadata": {},
   "source": [
    "## Zadanie 1 (3 pkt.)"
   ]
  },
  {
   "cell_type": "markdown",
   "metadata": {},
   "source": [
    "NTRUEncrypt jest zdefiniowany za pomocą trzech paramterów $N$, $p$, $q$ $\\in\\mathbb{N}$. Gdzie $q>p$, $NWD(p,q)=1$, $p$ jest nieparzyste. Popularnym wyborem są $p=3$, $q=2048$, natomiast $N$ zwykle jest liczbą pierwszą, obecnie zalecana wartość to $N=401$. W dalszych zadaniach będziemy korzystać z tych wartości, o ile nie będzie napisane inaczej. Obliczenia są wykonywane w pierścieniu $\\mathcal{R}=\\mathbb{Z}\\left[x\\right]/\\left(x^N-1\\right)$ są to wielomiany o współczynikach całkowitych modulo wielomian $x^N-1$. Mnożenie w tym pierścieniu jest proste, zwyczajnie mnożymy wielomiany a następnie liczymy resztę z dzielenia przez $x^N-1$.\n",
    "\n",
    "Można to też zrobić jeszcze prościej mianowicie po wymnożeniu wielomianów każdy wykładnik $x$ zmieniamy na resztę z dzielenia przez $N$, np.:\n",
    "\n",
    "$$(x^2+3x+1)(2x^2+x-4)=2x^4+7x^3+x^2-11x-4=2x+7+x^2-11x-4=x^2-9x+3$$\n",
    "\n",
    "Najwygodniej jest reprezentować te wielomiany jako wektory współczynników\n",
    "$$a(x)=\\sum_{i=0}^{N-1}a_ix^i\\equiv \\vec{a}=(a_0,a_1,...,a_{N-1})$$\n",
    "np.:\n",
    "$$x^2+3x+1\\equiv (1,3,1)$$\n",
    "$$2x^2+x-4\\equiv (-4,1,2)$$\n",
    "wtedy mnożenie dwóch wielomianów można zapisać jako **splot**:\n",
    "$$c(x)=a(x)b(x)$$\n",
    "$$\\vec{c}=\\vec{a}\\star\\vec{b}$$\n",
    "$$c_i=\\sum_{j=0}^{N-1}a_jb_{i-j}$$\n",
    "gdzie wszystkie indeksy są brane modulo $N$.\n",
    "\n",
    "Uwaga: mnożenie wielomianów zawsze można zapisać jako splot. Tutaj dzielenie wielomianu przez $x^N-1$ jest ukryte w braniu indeksów modulo $N$.\n",
    "\n",
    "Zaimplementuj działanie $\\star$, czyli mnożenie wielomianów w pierścieniu $\\mathcal{R}$ (funkcja **multiply_R**). Możesz to zrobić zarówno za pomocą splotu jak i mnożąc wielomianu i biorąc resztę z dzielenia przez $x^N-1$.\n",
    "\n",
    "We wszystkich zadaniach możesz korzystać z gotowych funkcji do mnożenia i dzielenia wielomianów.\n",
    "\n",
    "Uwaga: nie zawsze będzie to możliwe wprost, patrz treści zadań"
   ]
  },
  {
   "cell_type": "code",
   "execution_count": 2,
   "metadata": {},
   "outputs": [],
   "source": [
    "from numpy.polynomial.polynomial import polymul, polydiv, polyadd, polysub"
   ]
  },
  {
   "cell_type": "markdown",
   "metadata": {},
   "source": [
    "Poniżej jest pomocnicza funkcja, która zwraca wielomian $x^N-1$ dla podanego $N$, możesz jej użyć w dalszych implementacjach."
   ]
  },
  {
   "cell_type": "code",
   "execution_count": 3,
   "metadata": {},
   "outputs": [],
   "source": [
    "def poly_N(N):\n",
    "    return [-1]+(N-1)*[0]+[1]"
   ]
  },
  {
   "cell_type": "markdown",
   "metadata": {},
   "source": [
    "Na tej liście przyjmujemy konwencję, że wielomian jest reprezentowane przez listę współczynników w kolejności od współczynnika przy $x^0$ oraz że zera na końcu listy mogą być pominięte ale nie muszą tzn.:\n",
    "\n",
    "$$x^3+2x-3\\equiv [-3,2,0,1]\\equiv [-3,2,0,1,0]\\equiv [-3,2,0,1,0,0,0,0,0,0]$$\n",
    "\n",
    "Uważaj na zera na końcu przy porównywaniu wielomianów.\n",
    "\n",
    "poniżej $a$, $b$ to wielomiany, które mnożymy, $N$ definiuje pierścień $\\mathcal{R}$."
   ]
  },
  {
   "cell_type": "code",
   "execution_count": 4,
   "metadata": {},
   "outputs": [],
   "source": [
    "def multiply_R(a,b,N):\n",
    "    poly = poly_N(N)\n",
    "    a += [0] * (N - len(a))\n",
    "    b += [0] * (N - len(b))\n",
    "    \n",
    "    mul = polymul(a, b)\n",
    "    _, c = polydiv(mul, poly) \n",
    "#     print(c)\n",
    "    return c"
   ]
  },
  {
   "cell_type": "code",
   "execution_count": 5,
   "metadata": {},
   "outputs": [
    {
     "name": "stdout",
     "output_type": "stream",
     "text": [
      "[ True  True  True]\n",
      "[ True  True  True  True  True]\n",
      "[ True  True  True  True  True  True]\n",
      "[ True  True  True  True]\n",
      "[ True  True  True  True]\n"
     ]
    }
   ],
   "source": [
    "print(multiply_R([1,3,1],[-4,1,2],3)==[3, -9, 1])\n",
    "print(multiply_R([-7,5,1,0,2],[0,6,-1,0,2],5)==[22, -42, 37, 5, -15])\n",
    "print(multiply_R([1,2,3],[3,0,8,9,-1,2],6)==[4, 12, 17, 25, 41, 27])\n",
    "print(multiply_R([0,1,5],[2,4],5)==[0, 2, 14, 20])\n",
    "print(multiply_R([7,1,-1,0],[0,1,0,0,0],6)==[0, 7, 1, -1])"
   ]
  },
  {
   "cell_type": "markdown",
   "metadata": {},
   "source": [
    "Przy wykonywaniu działań w ramach NTRUEncrypt będziemy potrzebowali nieco zmodyfikowanej wersji operacji modulo. Operacja **mods** jest zdefiniowana następująco:\n",
    "$$a\\quad mods\\quad n = b \\Longleftrightarrow a\\equiv b \\mod n \\land-\\frac{n-1}{2}\\leq b\\leq \\frac{n}{2}$$\n",
    "np.:\n",
    "$$a\\quad mods \\quad 5\\in \\{-2,-1,0,1,2\\}$$\n",
    "natomiast\n",
    "$$a\\quad mod \\quad 5\\in \\{0,1,2,3,4\\}$$\n",
    "Czyli jest to operacja modulo ale zwracająca wartości symetryczne wokół zera.\n",
    "\n",
    "Zaimplementuj **mods**."
   ]
  },
  {
   "cell_type": "code",
   "execution_count": 6,
   "metadata": {},
   "outputs": [],
   "source": [
    "def mods(a,n):\n",
    "    rad = int((n-1) / 2)\n",
    "    vals = [i for i in range(-rad, rad+1)]\n",
    "    mod = int((a+rad)%n)\n",
    "    result = vals[mod]\n",
    "#     print(vals, mod, result)\n",
    "    return result"
   ]
  },
  {
   "cell_type": "code",
   "execution_count": 8,
   "metadata": {},
   "outputs": [
    {
     "name": "stdout",
     "output_type": "stream",
     "text": [
      "True\n",
      "True\n",
      "True\n",
      "True\n",
      "True\n"
     ]
    }
   ],
   "source": [
    "print(mods(7,3)==1)\n",
    "print(mods(8,3)==-1)\n",
    "print(mods(7,5)==2)\n",
    "print(mods(8,5)==-2)\n",
    "print(mods(9,5)==-1)"
   ]
  },
  {
   "cell_type": "markdown",
   "metadata": {},
   "source": [
    "Teraz wygenerujemy klucze publiczny i prywatny.\n",
    "\n",
    "Niech $F(x)$, $G(x)$ $\\in\\mathcal{R}$ będą tajnymi wielomianami, ze współczynnikami pochodzącymi ze zbioru $\\{-1,0,1\\}$. Następnie defniujemy:\n",
    "$$f(x)=1+pF(x)$$\n",
    "$$g(x)=pG(x)$$\n",
    "$$h(x)=f^{-1}(x)g(x)\\quad mods\\quad q$$\n",
    "gdzie $f^{-1}(x)$ to odwrotność $f$ w pierścieniu $\\mathcal{R}$ mods $q$.\n",
    "\n",
    "Wtedy klucz publiczny to wektor współczynnikó $\\vec{h}$ a klucz prywatny to $\\vec{f}$\n",
    "\n",
    "Aby wykonać powyższe obliczenia musimy napisać funkcję odwracającą wielomian w pierścieniu $\\mathcal{R}$ ale traktując jego współczynniki jako pochodzące z ciała $\\mathbb{Z}_q$. Robimy to za pomocą Rozszerzonego Algorytmu Euklides (jak kiedyś dla ciał Galois) ale potrzebujemy odpowiednich funkcji dzielących i mnożących. Musimy zdefiniować funkcję mnożącą wielomiany ze współczynnikami z ciała $\\mathbb{Z}_q$ ale **nie** dzielącą przez $x^N-1$. Możemy tu użyć gotowej funkcji **polymul** z biblioteki a następnie wziąć współczynniki **mods** $q$ (**nie** mod !)."
   ]
  },
  {
   "cell_type": "code",
   "execution_count": 9,
   "metadata": {},
   "outputs": [],
   "source": [
    "def multiply_q(a,b,q):\n",
    "    mul = polymul(a, b)\n",
    "#     print(mul)\n",
    "    result = [mods(int(i), q) for i in mul]\n",
    "    return result"
   ]
  },
  {
   "cell_type": "code",
   "execution_count": 10,
   "metadata": {},
   "outputs": [
    {
     "name": "stdout",
     "output_type": "stream",
     "text": [
      "True\n",
      "True\n"
     ]
    }
   ],
   "source": [
    "print(multiply_q([-1,0,5,3],[1,0,0,9,-3],31)==[-1, 0, 5, -6, 3, 14, 12, -9])\n",
    "print(multiply_q([0,6,0,1,1,1],[0,7,2,1,0],11)==[0, 0, -2, 1, 2, -2, -1, 3, 1])"
   ]
  },
  {
   "cell_type": "markdown",
   "metadata": {},
   "source": [
    "Teraz musimy zaimplementować fukcję dzielącą wielomiany mods $q$. Tutaj **Nie** możemy użyć gotowej funkcji **polydiv** ponieważ traktuje ona współczynniki wielomianów jakby pochodziły z ciała $\\mathbb{R}$ a u nas pochodzą z ciałą $\\mathbb{Z}_q$. O ile przy mnożeniu wystarczy wziąć wynik mods $q$ i nie ma problemu o tyle przy dzieleniu to się nie uda. Np.: dla $5\\in\\mathbb{R}$ mamy $5^{-1}=0.2\\notin\\mathbb{Z}$ a dla $5\\in\\mathbb{Z}_7$ mamy $5^{-1}=3\\in\\mathbb{Z}_7$. Zatem musimy zaimplementować dzielenie samodzielnie. Najpierw zaimplemtujmy funkcję do odwracania liczb w ciele $\\mathbb{Z}_q$ (cały czas pamiętaj o **mods**):"
   ]
  },
  {
   "cell_type": "code",
   "execution_count": 11,
   "metadata": {},
   "outputs": [],
   "source": [
    "def inv_q(a,q):\n",
    "    result = None\n",
    "    for i in range(q):\n",
    "        mod = mods(a*i, q)\n",
    "        if mod==1:\n",
    "            result = i #odwrotnosc modularna\n",
    "            break\n",
    "           \n",
    "    return result"
   ]
  },
  {
   "cell_type": "code",
   "execution_count": 12,
   "metadata": {},
   "outputs": [
    {
     "name": "stdout",
     "output_type": "stream",
     "text": [
      "True\n",
      "True\n",
      "True\n"
     ]
    }
   ],
   "source": [
    "print(inv_q(5,7)==3)\n",
    "print(inv_q(5,7)==3)\n",
    "print(inv_q(-5,31)==6)"
   ]
  },
  {
   "cell_type": "markdown",
   "metadata": {},
   "source": [
    "Poniżej są pomocnicze funkcje, które możesz wykorzystać.\n",
    "\n",
    "Sprawdzanie czy wielomian jest wielomianem zerowym:"
   ]
  },
  {
   "cell_type": "code",
   "execution_count": 13,
   "metadata": {},
   "outputs": [],
   "source": [
    "def is_zero(a):\n",
    "    return np.all([_ == 0 for _ in a])"
   ]
  },
  {
   "cell_type": "markdown",
   "metadata": {},
   "source": [
    "Stopień wielomianu:"
   ]
  },
  {
   "cell_type": "code",
   "execution_count": 14,
   "metadata": {},
   "outputs": [],
   "source": [
    "def deg(a):\n",
    "    if is_zero(a):\n",
    "        return 0\n",
    "    else:\n",
    "        return np.nonzero(a)[0][-1]"
   ]
  },
  {
   "cell_type": "markdown",
   "metadata": {},
   "source": [
    "Współczynnik przy najwyższej potędze:"
   ]
  },
  {
   "cell_type": "code",
   "execution_count": 15,
   "metadata": {},
   "outputs": [],
   "source": [
    "def lead(a):\n",
    "    return a[deg(a)]"
   ]
  },
  {
   "cell_type": "markdown",
   "metadata": {},
   "source": [
    "Teraz korzystając z **inv_q** oraz **multiply_q** (do dodawania i odejmowania wielomianów można użyć zwykłych **polyadd** i **polysub** biorąc współczynniki **mods** $q$)"
   ]
  },
  {
   "cell_type": "code",
   "execution_count": 16,
   "metadata": {},
   "outputs": [],
   "source": [
    "def add_q(a,b,q):\n",
    "    add = polyadd(a, b)\n",
    "#     print(mul)\n",
    "    result = [mods(int(i), q) for i in add]\n",
    "    return result\n",
    "\n",
    "def sub_q(a,b,q):\n",
    "    sub = polysub(a, b)\n",
    "    \n",
    "    result = [mods(int(i), q) for i in sub]\n",
    "    return result"
   ]
  },
  {
   "cell_type": "code",
   "execution_count": 17,
   "metadata": {},
   "outputs": [],
   "source": [
    "def find_multiple_of(a,q,w):\n",
    "    result = None\n",
    "#     print(\"range\", -int((q-1) / 2), int((q-1) / 2)+1, \"q=\", q)\n",
    "    for i in range(-int((q-1) / 2), int((q-1) / 2)+1):\n",
    "        mod = mods(a*i, q)\n",
    "#         print(\"a=\",a, \"i=\",i, a*i, \"mod=\", mod, \"szukana\",w)\n",
    "        if mod==w:\n",
    "            result = i #odwrotnosc modularna\n",
    "            break\n",
    "    \n",
    "    if(result == None):\n",
    "        print(\"nie znalazlem\")\n",
    "        \n",
    "    return int(result)"
   ]
  },
  {
   "cell_type": "code",
   "execution_count": 18,
   "metadata": {},
   "outputs": [],
   "source": [
    "def divide_q(a,b,q):\n",
    "    while b[-1]==0:\n",
    "        b = b.pop() #wywalenie niepotrzebnych 0 z konca listy\n",
    "    a += [0] * (len(b) - len(a)) #uzupelnienie stopnia wielomianu\n",
    "\n",
    "    result = []\n",
    "    a_rev = a[::-1]\n",
    "    for _ in range(len(a)-len(b)+1):\n",
    "#         print(\"a=\", len(a), a)\n",
    "        result_i = find_multiple_of(b[-1], q, mods(a[-1],q)) #jaka liczba pomnozona przez b[-1] da a[-1] w ciele Zq\n",
    "        result.insert(0,result_i)\n",
    "        to_sub = [mods(result_i*i, q) for i in b] #oblicz wielomian do odjecia od a\n",
    "#         print(\"to_sub\",to_sub)\n",
    "\n",
    "        rest = sub_q(a[-len(to_sub):], to_sub, q) #nowe a lub reszta z dzielenia\n",
    "        new_a = rest\n",
    "#         print(\"new a\", len(new_a), new_a)\n",
    "        while len(to_sub)-1 > len(new_a):\n",
    "            new_a.append(0)\n",
    "        a = a[:-1] #wywalam najwyzszy stopien\n",
    "        a = a[:-len(new_a)] + new_a\n",
    "        \n",
    "        \n",
    "    while rest[-1]==0 and len(rest)>1: #wywalenie 0 przy najwyższych stopniach\n",
    "        rest = rest[:-1]\n",
    "        \n",
    "#     print(result, rest)    \n",
    "    return (result, rest)    "
   ]
  },
  {
   "cell_type": "code",
   "execution_count": 19,
   "metadata": {},
   "outputs": [
    {
     "name": "stdout",
     "output_type": "stream",
     "text": [
      "True\n",
      "True\n",
      "True\n",
      "True\n"
     ]
    }
   ],
   "source": [
    "print(divide_q([1,7,0,-2,5],[0,4,1,-4],11)==([5, -4], [1, -2]))\n",
    "print(divide_q([0,1,-1,0,1],[1,1,1],7)==([-1, -1, 1], [1, 3]))\n",
    "print(divide_q([1, 0, -3, 0, -3, 0, 0, 0, 3, -3, 0, 0, 0, 0, 0, 0, 0, 0, 3],poly_N(23),31)==([0], [1, 0, -3, 0, -3, 0, 0, 0, 3, -3, 0, 0, 0, 0, 0, 0, 0, 0, 3]))\n",
    "print(divide_q(poly_N(23),[1, 0, -3, 0, -3, 0, 0, 0, 3, -3, 0, 0, 0, 0, 0, 0, 0, 0, 3],31)==([0, 0, 0, 0, 0, -10], [-1, 0, 0, 0, 0, 10, 0, 1, 0, 1, 0, 0, 0, -1, 1]))"
   ]
  },
  {
   "cell_type": "markdown",
   "metadata": {},
   "source": [
    "Teraz korzystając z funkcji **divide_q** i **multiply_q** oraz Rozszerzonego Algorytmu Euklidesa możemy zaimplementować odwrotność w pierścieniu $\\mathcal{R}$ mods $q$.\n",
    "\n",
    "Uwaga: $NWD(a(x),x^N-1)$ może być dowolną liczbą całkowitą i to jest równoważne sytuacji gdyby było równe $1$ ale trzeba znalezioną odwrotność podzielić (tj. pomnożyć przez odwrotność w ciele $\\mathbb{Z}_q$) przez tę liczbę. Tzn. jeżeli $NWD(a(x),x^N-1)=c$, co znajdziemy w Rozszerzonym Algorytmie Euklidesa jako ostatnią niezerową resztę z dzielenia, to wtedy szukana odwrotnoś $a^{-1}(x)$ będzie wielomianem zwróconym przez algorytm razy $c^{-1}$."
   ]
  },
  {
   "cell_type": "code",
   "execution_count": 20,
   "metadata": {},
   "outputs": [],
   "source": [
    "def gcdExtended_q(a, b, q):\n",
    "#     https://en.wikipedia.org/wiki/Extended_Euclidean_algorithm\n",
    "    # Base Case\n",
    "    if deg(a) < deg(b):\n",
    "        temp = a\n",
    "        a = b\n",
    "        b = temp\n",
    "    \n",
    "#     print(\"a i b\", a,b)\n",
    "    if is_zero(b):\n",
    "#         print(a[0])\n",
    "        return a, 0, 1\n",
    "    \n",
    "    div, rest = divide_q(a, b, q)\n",
    "#     print(\"div i rest\", div, rest, \"\\n\")\n",
    "    gcd,x1,y1 = gcdExtended_q(b, rest, q)\n",
    "    \n",
    "    x = sub_q(y1, multiply_q(div,x1, q), q)\n",
    "    y = x1\n",
    "        \n",
    "    return gcd,x,y"
   ]
  },
  {
   "cell_type": "code",
   "execution_count": 21,
   "metadata": {},
   "outputs": [],
   "source": [
    "def inv(a,N,q):\n",
    "    poly = poly_N(N)\n",
    "    a = [mods(i, q) for i in a]\n",
    "    c, x, y = gcdExtended_q(a, poly, q)\n",
    "    c_1 = inv_q(c[0], q) #odwrotnosc 1 w polu q\n",
    "#     print(c_1)\n",
    "    \n",
    "    x_inv = [mods(int(i)*c_1, q) for i in x]\n",
    "    y_inv = [mods(int(i)*c_1, q) for i in y]\n",
    "    \n",
    "#     print(x_inv)\n",
    "#     print(y_inv)\n",
    "    \n",
    "    result = x_inv\n",
    "    \n",
    "    return result"
   ]
  },
  {
   "cell_type": "code",
   "execution_count": 22,
   "metadata": {},
   "outputs": [
    {
     "name": "stdout",
     "output_type": "stream",
     "text": [
      "True\n",
      "True\n",
      "True\n",
      "True\n"
     ]
    }
   ],
   "source": [
    "print(inv([1,5,-2,3],4,5)==[-1, 1, -2])\n",
    "print(inv([1,5,-2,3],5,5)==[0, -2, 1, 1, -2])\n",
    "# print(inv([1,5,-2,3],4,7)==[-2, -2, -1])\n",
    "print(inv([1, 0, -3, 0, -3, 0, 0, 0, 3, -3, 0, 0, 0, 0, 0, 0, 0, 0, 3],23,31)==[-4,4,-10,15,-5,12, 5, 15,-11, 13,-12, 5,-1, 1, -6, 12, -9,-13, 11, -4, -8, -9, 14])"
   ]
  },
  {
   "cell_type": "markdown",
   "metadata": {},
   "source": [
    "Na koniec potrzebujemy jeszcze funkcji **multiply_R_q** liczącej iloczyn w $\\mathcal{R}$ mods $q$, tutaj wystarczy użyć funkcji **multiply_R** i wziąć współczynniki mods $q$."
   ]
  },
  {
   "cell_type": "code",
   "execution_count": 23,
   "metadata": {},
   "outputs": [],
   "source": [
    "def multiply_R_q(a,b,N,q):\n",
    "    mul = multiply_R(a, b, N)\n",
    "    result = [mods(i, q) for i in mul]\n",
    "    return result"
   ]
  },
  {
   "cell_type": "code",
   "execution_count": 24,
   "metadata": {},
   "outputs": [
    {
     "name": "stdout",
     "output_type": "stream",
     "text": [
      "True\n",
      "True\n",
      "True\n"
     ]
    }
   ],
   "source": [
    "print(multiply_R_q([1,3,1],[-4,1,2],3,31)==[3, -9, 1])\n",
    "print(multiply_R_q([-7,5,1,0,2],[0,6,-1,0,2],5,31)==[-9, -11, 6, 5, -15])\n",
    "print(multiply_R_q([1,2,3],[3,0,8,9,-1,2],6,11)==[4, 1, -5, 3, -3, 5])"
   ]
  },
  {
   "cell_type": "markdown",
   "metadata": {},
   "source": [
    "Teraz wreszcie możemy zaimplemtować funkcję generującą klucze publiczny i prywatny dla danych (tajnych) wielomianów $F$ i $G$.\n",
    "$$f(x)=1+pF(x)$$\n",
    "$$g(x)=pG(x)$$\n",
    "$$h(x)=f^{-1}(x)g(x)\\quad mods\\quad q$$\n",
    "$h$ to klucz publiczny a $f$ prywatny.\n",
    "\n",
    "Funkcja **key_gen** ma zwracać parę klucz prywatny i publiczny."
   ]
  },
  {
   "cell_type": "code",
   "execution_count": 25,
   "metadata": {},
   "outputs": [],
   "source": [
    "def key_gen(F,G,N,q,p):\n",
    "    pF = multiply_q(p, F, q)\n",
    "    f = add_q([1], pF, q) #ok\n",
    "        \n",
    "    g = multiply_q(p, G, q)\n",
    "    \n",
    "    f_1 = inv(f, N, q)\n",
    "    h = multiply_R_q(f_1, g, N, q)\n",
    "    \n",
    "    return f, h"
   ]
  },
  {
   "cell_type": "markdown",
   "metadata": {},
   "source": [
    "Dalej będziemy używać poniższych parametrów:"
   ]
  },
  {
   "cell_type": "code",
   "execution_count": 26,
   "metadata": {},
   "outputs": [],
   "source": [
    "F = [0,0,-1,0,-1,0,0,0,1,-1,0,0,0,0,0,0,0,0,1,0,0,0,0]\n",
    "G = [0,-1,0,1,0,0,0,0,0,1,0,0,1,0,0,0,0,1,0,0,0,0,0]\n",
    "N=23\n",
    "q=31\n",
    "p=3"
   ]
  },
  {
   "cell_type": "code",
   "execution_count": 27,
   "metadata": {},
   "outputs": [
    {
     "name": "stdout",
     "output_type": "stream",
     "text": [
      "True\n"
     ]
    }
   ],
   "source": [
    "print(key_gen(F,G,N,q,p)==([1, 0, -3, 0, -3, 0, 0, 0, 3, -3, 0, 0, 0, 0, 0, 0, 0, 0, 3],[8, 1, 4, 0, 0, -8, 5, 10, 3, -14, -5, 7, -3, 14, -6, -14, 8, 0, -14, 12, 0, -15, -13]))"
   ]
  },
  {
   "cell_type": "markdown",
   "metadata": {},
   "source": [
    "Teraz możemy zaimplemetować operację szyfracji. Wielomian $m$ reprezentuje wiadomość natomiast wielomian $r$ to losowo wybrany wielomian $\\vec{r}\\in\\{-1,0,1\\}^N$. Wtedy szyfrogram to:\n",
    "$$\\vec{y} = \\vec{r}\\star\\vec{h}+\\vec{m}\\quad mods \\quad q$$\n",
    "$\\star$ to mnożenie w pierścieniu $\\mathcal{R}$."
   ]
  },
  {
   "cell_type": "code",
   "execution_count": 28,
   "metadata": {},
   "outputs": [],
   "source": [
    "def encrypt(m,h,r,N,q):\n",
    "    rh = multiply_R_q(r, h, N, q)\n",
    "    y = add_q(rh, m, q)\n",
    "    return y"
   ]
  },
  {
   "cell_type": "code",
   "execution_count": 29,
   "metadata": {},
   "outputs": [
    {
     "name": "stdout",
     "output_type": "stream",
     "text": [
      "True\n"
     ]
    }
   ],
   "source": [
    "m = [-1,0,0,0,0,0,0,1,0,0,0,0,-1,0,0,1]\n",
    "r = [0,0,-1,0,0,0,1,0,0,0,1,0,0,0,0,0,0,0,0,1]\n",
    "\n",
    "f, h = key_gen(F,G,N,q,p)\n",
    "\n",
    "print(encrypt(m,h,r,N,q)==[-3, -15, -5, -14, 15,-10, 15, -14, 12, -9, -1, -7, -10, 3, -8, 8, 6, -15, 10, 8, 4, -15, 5])"
   ]
  },
  {
   "cell_type": "code",
   "execution_count": 30,
   "metadata": {},
   "outputs": [
    {
     "name": "stdout",
     "output_type": "stream",
     "text": [
      "[1, 0, -3, 0, -3, 0, 0, 0, 3, -3, 0, 0, 0, 0, 0, 0, 0, 0, 3]\n"
     ]
    }
   ],
   "source": [
    "print(f)"
   ]
  },
  {
   "cell_type": "markdown",
   "metadata": {},
   "source": [
    "Oraz operację deszyfracji:\n",
    "$$\\vec{m}=(\\vec{f}\\star\\vec{y}\\quad mods\\quad q)\\quad mods \\quad p$$"
   ]
  },
  {
   "cell_type": "code",
   "execution_count": 31,
   "metadata": {},
   "outputs": [],
   "source": [
    "def decrypt(y,f,N,q,p):\n",
    "    fy = multiply_R_q(f, y, N, q)\n",
    "#     print(\"fy=\",fy)\n",
    "    m = [mods(i, p) for i in fy]\n",
    "#     print(\"m\", m, len(m))\n",
    "    \n",
    "    while m[-1]==0 and len(m)>1: #wywalenie 0 przy najwyższych stopniach\n",
    "        m = m[:-1]\n",
    "        \n",
    "    return m"
   ]
  },
  {
   "cell_type": "code",
   "execution_count": 32,
   "metadata": {},
   "outputs": [
    {
     "name": "stdout",
     "output_type": "stream",
     "text": [
      "True\n"
     ]
    }
   ],
   "source": [
    "print(decrypt(encrypt(m,h,r,N,q),f,N,q,p)==m)"
   ]
  },
  {
   "cell_type": "markdown",
   "metadata": {},
   "source": [
    "## Zadanie 2 (1 pkt)"
   ]
  },
  {
   "cell_type": "markdown",
   "metadata": {},
   "source": [
    "Łamanie szyfru NTRUEncrypt można sprowadzić do problemu szukania niezerowego wektora o najmniejszej normie lub szukania wektora najbliższego do danego na **kracie**. Kratą nazywamy zbiór wektorów o wspólczynnikach całkowitych rozpiętych na pewnej bazie wektorów $v_i\\in\\mathbb{Z}^k$. Aby zobaczyć dlaczego te problemy mogą być równoważne policz średnią normę wektora $(\\vec{f},\\vec{g})$ dla losowo wybranych (wielu np. 1000) $F$ i $G$, pamiętaj że $F$ i $G$ maja współczynniki ze zbioru $\\{-1,0,1\\}$. Potraktuj wektor $(\\vec{f},\\vec{g})$ jako zlepek dwóch wektorów $(f_0,...,f_{N-1},g_0,...,g_{N-1})$."
   ]
  },
  {
   "cell_type": "code",
   "execution_count": 33,
   "metadata": {},
   "outputs": [],
   "source": [
    "q = 2048\n",
    "p = 3\n",
    "N = 401"
   ]
  },
  {
   "cell_type": "code",
   "execution_count": 34,
   "metadata": {},
   "outputs": [
    {
     "name": "stdout",
     "output_type": "stream",
     "text": [
      "23.129083167630252\n"
     ]
    }
   ],
   "source": [
    "norms = []\n",
    "for _ in range(1000):\n",
    "    f = np.random.randint(low=-1, high=2, size=(N,)) # {-1, 0, 1}\n",
    "    g = np.random.randint(low=-1, high=2, size=(N,)) # {-1, 0, 1}\n",
    "    \n",
    "    vector = np.concatenate((f, g)) # (𝑓0,...,𝑓𝑁−1,𝑔0,...,𝑔𝑁−1)\n",
    "    norm = np.linalg.norm(vector)\n",
    "    norms.append(norm)\n",
    "    \n",
    "avg = np.average(norms)\n",
    "print(avg)"
   ]
  },
  {
   "cell_type": "code",
   "execution_count": 35,
   "metadata": {},
   "outputs": [],
   "source": [
    "# norms = []\n",
    "# for _ in range(1000):\n",
    "#     F = list(np.random.randint(low=-1, high=2, size=(N,))) # {-1, 0, 1}\n",
    "#     G = list(np.random.randint(low=-1, high=2, size=(N,))) # {-1, 0, 1}\n",
    "    \n",
    "#     pF = multiply_q(p, F, q)\n",
    "#     f = np.array(add_q([1], pF, q))\n",
    "#     g = np.array(multiply_q(p, G, q))\n",
    "    \n",
    "#     vector = np.concatenate((f, g)) # (𝑓0,...,𝑓𝑁−1,𝑔0,...,𝑔𝑁−1)\n",
    "#     norm = np.linalg.norm(vector)\n",
    "#     norms.append(norm)\n",
    "    \n",
    "# avg = np.average(norms)\n",
    "# print(avg)"
   ]
  },
  {
   "cell_type": "markdown",
   "metadata": {},
   "source": [
    "A teraz policz normę losowo wybranych wektorów o długości $2N$ ze współczynnikami z przedziału $[-q/2,q/2]$. Która jest znacznie większa?"
   ]
  },
  {
   "cell_type": "code",
   "execution_count": 36,
   "metadata": {},
   "outputs": [
    {
     "name": "stdout",
     "output_type": "stream",
     "text": [
      "23672.805570334658\n"
     ]
    }
   ],
   "source": [
    "norms = []\n",
    "N = 2*N\n",
    "rang = q/2\n",
    "for _ in range(1000):\n",
    "    f = np.random.randint(low=-rang, high=rang+1, size=(N,)) # [−𝑞/2,𝑞/2]\n",
    "    g = np.random.randint(low=-rang, high=rang+1, size=(N,)) # [−𝑞/2,𝑞/2]\n",
    "    \n",
    "    vector = np.concatenate((f, g)) # (𝑓0,...,𝑓𝑁−1,𝑔0,...,𝑔𝑁−1)\n",
    "    norm = np.linalg.norm(vector)\n",
    "    norms.append(norm)\n",
    "    \n",
    "avg = np.average(norms)\n",
    "print(avg)"
   ]
  },
  {
   "cell_type": "markdown",
   "metadata": {},
   "source": [
    "## Zadanie 3 (1 pkt)"
   ]
  },
  {
   "cell_type": "markdown",
   "metadata": {},
   "source": [
    "Narysuj kraty o bazach:\n",
    "\n",
    "a) $\\{(0,1),(2,0)\\}$\n",
    "\n",
    "b)$\\{(1,7),(2,12)\\}$\n",
    "\n",
    "Tzn. ich fragmenty bo są oczywiście nieskończone. Poniżej przykład kraty dla bazy $\\{(1,1),(1,-1)\\}$.\n",
    "\n",
    "<img src=\"krata.png\" width=\"1000\" align=\"left\"/>\n"
   ]
  },
  {
   "cell_type": "code",
   "execution_count": 63,
   "metadata": {},
   "outputs": [
    {
     "data": {
      "text/plain": [
       "<function matplotlib.pyplot.show(*args, **kw)>"
      ]
     },
     "execution_count": 63,
     "metadata": {},
     "output_type": "execute_result"
    },
    {
     "data": {
      "image/png": "[encoded data removed]",
      "text/plain": [
       "<Figure size 720x720 with 1 Axes>"
      ]
     },
     "metadata": {
      "needs_background": "light"
     },
     "output_type": "display_data"
    }
   ],
   "source": [
    "x=[]\n",
    "y=[]\n",
    "for c in range(-5, 6):\n",
    "    for z in range(-5, 6):\n",
    "        x.append(2*c)\n",
    "        y.append(z)\n",
    "        \n",
    "plt.figure(figsize=(10, 10))\n",
    "plt.grid()\n",
    "plt.xticks(np.arange(min(x), max(x)+1, 2))\n",
    "plt.scatter(x, y)\n",
    "plt.show"
   ]
  },
  {
   "cell_type": "code",
   "execution_count": 57,
   "metadata": {},
   "outputs": [
    {
     "data": {
      "text/plain": [
       "<function matplotlib.pyplot.show(*args, **kw)>"
      ]
     },
     "execution_count": 57,
     "metadata": {},
     "output_type": "execute_result"
    },
    {
     "data": {
      "image/png": "[encoded data removed]",
      "text/plain": [
       "<Figure size 720x720 with 1 Axes>"
      ]
     },
     "metadata": {
      "needs_background": "light"
     },
     "output_type": "display_data"
    }
   ],
   "source": [
    "x=[]\n",
    "y=[]\n",
    "for c in range(-1,2):\n",
    "    for z in range(-5, 6):\n",
    "        x.append(c + (2*z))\n",
    "        y.append((7*c) + (12*z))\n",
    "        \n",
    "plt.figure(figsize=(10, 10))\n",
    "plt.grid()\n",
    "plt.xticks(np.arange(min(x), max(x)+1, 1.0))\n",
    "plt.scatter(x, y)\n",
    "plt.show"
   ]
  },
  {
   "cell_type": "code",
   "execution_count": null,
   "metadata": {},
   "outputs": [],
   "source": []
  }
 ],
 "metadata": {
  "kernelspec": {
   "display_name": "Python 3",
   "language": "python",
   "name": "python3"
  },
  "language_info": {
   "codemirror_mode": {
    "name": "ipython",
    "version": 3
   },
   "file_extension": ".py",
   "mimetype": "text/x-python",
   "name": "python",
   "nbconvert_exporter": "python",
   "pygments_lexer": "ipython3",
   "version": "3.6.9"
  },
  "vscode": {
   "interpreter": {
    "hash": "96ad6c7fd9d06889208fc918e485ee5403ac6f6c27ad3f857e9a26d0c3a3092d"
   }
  }
 },
 "nbformat": 4,
 "nbformat_minor": 2
}
