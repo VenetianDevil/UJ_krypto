{
 "cells": [
  {
   "cell_type": "markdown",
   "metadata": {},
   "source": [
    "# Lista 4 (11 pkt.)"
   ]
  },
  {
   "cell_type": "code",
   "execution_count": 1,
   "metadata": {},
   "outputs": [],
   "source": [
    "import numpy as np"
   ]
  },
  {
   "cell_type": "markdown",
   "metadata": {},
   "source": [
    "Ciało Galois (ciało skończone) $GF(p^n)$ ma $p^n$ elementów gdzie $p$ jest liczbą pierwszą a $n$ liczbą naturalną.\n",
    "\n",
    "W ciałach $GF(p)=\\{0,1,...,p-1\\}$ dodawanie ($\\oplus$) i mnożenie ($\\odot$) są zdefiniowane jako zwykłe dodawanie ($+$) i mnożenie ($\\cdot$) liczb całkowitych modulo $p$.\n",
    "\n",
    "$$a,b\\in GF(p)$$\n",
    "\n",
    "$$a\\oplus b=a+b\\mod p$$\n",
    "\n",
    "$$a\\odot b=a \\cdot b\\mod p$$\n",
    "\n",
    "W ciałach $GF(p^n)$ elementy ciała możemy traktować jako wielomiany stopnia $n-1$ o współczynnikach z ciała $GF(p)$:\n",
    "\n",
    "$$a\\in GF(p^n)$$\n",
    "\n",
    "$$a=c_{n-1}x^{n-1}+c_{n-2}x^{n-2}+...+c_1x+c_0$$\n",
    "\n",
    "$$c_k\\in GF(p)$$\n",
    "\n",
    "Spójrzmy na przypadek, który nas najbardziej interesuje czyli ciala $GF(2^n)$.\n",
    "\n",
    "Ciało $GF(2)=\\{0,1\\}$ jest ciałem dwu elemntowym, z działaniami\n",
    "\n",
    "$0\\oplus0=0$, $0\\oplus1=1$, $1\\oplus1=0$,\n",
    "\n",
    "$0\\odot0=0$, $0\\odot1=0$, $1\\odot1=1$.\n",
    "\n",
    "Zatem cialo $GF(2^n)$ zawiera wielomiany o wspólczynnikach $0$ i $1$, np. ciało $GF(2^3)$ zawiera 8 elementów:\n",
    "\n",
    "$1$, $x$, $x+1$, $x^2$, $x^2+1$, $x^2+x$, $x^2+x+1$,$0$\n",
    "\n",
    "elementy te możemy reprezentować jako ciąg bitów, określający współczynnki w wielomianie, tzn.\n",
    "\n",
    "$1=001$, $x=010$, $x+1=011$, $x^2=100$, $x^2+1=101$, $x^2+x=110$, $x^2+x+1=111$.\n",
    "\n",
    "W poniższych zadaniach będzie trzeba zaimplementować działania w ciele $GF(2^n)$."
   ]
  },
  {
   "cell_type": "markdown",
   "metadata": {},
   "source": [
    "## Zadanie 1 (1 pkt.)"
   ]
  },
  {
   "cell_type": "markdown",
   "metadata": {},
   "source": [
    "Dodawanie w ciele $GF(p^n)$ jest zdefiniowane jako zwykłe dodawanie wielomianów, z tym że wspóczynniki dodają się zgodnie z regułami z ciała $GF(p)$. Zatem w przypadku ciała $GF(2^n)$ dodawnie wyglada na przykład tak:\n",
    "\n",
    "chcmemy dodać do siebie dwa elementy ciała $GF(2^3)$: $x^2+x$ oraz $x+1$:\n",
    "\n",
    "$(x^2+x)\\oplus (x+1)=(1\\cdot x^2+1\\cdot x+0\\cdot 1)\\oplus (0\\cdot x^2+1\\cdot x+1\\cdot 1)=(1\\oplus0)\\cdot x^2+(1\\oplus 1)\\cdot x+(0\\oplus 1)\\cdot 1=1\\cdot x^2+0\\cdot x+1\\cdot 1=x^2+1$\n",
    "\n",
    "to samo dodawanie możemy zapisać reprezentując wielomiany jako ciągi btów:\n",
    "$110\\oplus011=101$\n",
    "widzimy więc, że dodawnie wielomianów jest zwykłą alternatywą wykluczająca dwóch ciagów bitów.\n",
    "\n",
    "Zauważmy też, że w wyniku dodawnia zawsze dostajemy wielomian o stopniu nie wyższym niż składniki działania zatem nie wychodzimy poza ciało, czyli nie musimy wykonywac żadnej operacji modulo na wielomianach.\n",
    "\n",
    "Zaimplementuj funkcję **add_GF(p,q)**, przyjmującą dwa stringi będące ciagami bitów reprezentujące dwa wielomiany i zwracjącą string będący ciagiem bitów reprezentujący wielomian $p\\oplus q$."
   ]
  },
  {
   "cell_type": "code",
   "execution_count": 2,
   "metadata": {},
   "outputs": [],
   "source": [
    "def add_GF(p,q):\n",
    "    p = p.zfill(len(q))\n",
    "    q = q.zfill(len(p))\n",
    "\n",
    "    result = ''\n",
    "    for (x,y) in zip(p, q):\n",
    "        result += str((int(x)+int(y))%2)\n",
    "        \n",
    "    result = result.lstrip('0')\n",
    "    if(result == \"\"):\n",
    "        return \"0\"\n",
    "            \n",
    "    return result"
   ]
  },
  {
   "cell_type": "code",
   "execution_count": 3,
   "metadata": {},
   "outputs": [
    {
     "name": "stdout",
     "output_type": "stream",
     "text": [
      "True\n",
      "True\n"
     ]
    }
   ],
   "source": [
    "print(add_GF('110','11')=='101')\n",
    "print(add_GF('110','101')=='11')"
   ]
  },
  {
   "cell_type": "markdown",
   "metadata": {},
   "source": [
    "Poza tym zaimplementuj funkcję zamieniającą string z bitami na string zawierający zapis szesnastkowy (uzupełniający ewentualnie zerami z przodu aby uzyskać zadaną liczbę cyfr $\\textit{pad}$), przyda nam się to później."
   ]
  },
  {
   "cell_type": "code",
   "execution_count": 4,
   "metadata": {},
   "outputs": [],
   "source": [
    "def bin2hex(bin_str,pad):\n",
    "    result = hex(int(bin_str, 2))[2:].zfill(int(pad))\n",
    "    return result\n",
    "    "
   ]
  },
  {
   "cell_type": "code",
   "execution_count": 5,
   "metadata": {},
   "outputs": [
    {
     "name": "stdout",
     "output_type": "stream",
     "text": [
      "True\n",
      "True\n",
      "True\n",
      "True\n"
     ]
    }
   ],
   "source": [
    "print(bin2hex('1101',2)=='0d')\n",
    "print(bin2hex('11010011',2)=='d3')\n",
    "print(bin2hex('1111111',3)=='07f')\n",
    "print(bin2hex('1',1)=='1')"
   ]
  },
  {
   "cell_type": "markdown",
   "metadata": {},
   "source": [
    "## Zadanie 2 (2 pkt.)"
   ]
  },
  {
   "cell_type": "markdown",
   "metadata": {},
   "source": [
    "Teraz zajmiemy się mnożeniem, które jest już bardziej skomplikowane. Na początek mnożymy jak w przypadku zwykłych wielomianów, z tym, że współczynniki mnożą się zgodnie z regułami $GF(2)$. Jak łatwo jednak zauważyć w wyniku mnożenia możemy dostać wielomian o stopniu wyższym niż mnożone wielomiany zatem nie należący do naszego ciała, aby wynik zawsze należał do ciała musimy dodatkowo wykonać dzielenie wielomianu modulo pewien nieredukowalny wielomian, który musi być podany jako element definicji, gdyż takich możliwych wielomianów może być wiele.\n",
    "\n",
    "Zanim jednak będziemy cokolwiek dzielić musimy zaimplementować zwykłe mnożenie wielomianów.\n",
    "\n",
    "Zaimplementuj funkcję **multiply(p,q)**, przyjmującą dwa stringi będące ciagami bitów reprezentujące dwa \n",
    "wielomiany i zwracjącą string będący ciagiem bitów reprezentujących wielomian $pq$. Nie jest to mnożenie w ramach ciała Galois bo jeszcze nie uwzględniamy operacji modulo, ale dodawnie, które się pojawia przy mnożeniu tych wielomianów jest dodawaniem w ciele Galois (**add_GF()**), tzn. na przykład:\n",
    "\n",
    "$(x^2+x)(x+1)=x^3+x$ bo $x^2\\oplus x^2=0$\n",
    "\n",
    "jak łatwo zauważyć, $x^3+x\\notin GF(2^3)$"
   ]
  },
  {
   "cell_type": "code",
   "execution_count": 6,
   "metadata": {},
   "outputs": [],
   "source": [
    "def multiply(p,q):\n",
    "  \n",
    "    a=\"0\"\n",
    "    count = 0\n",
    "    for y in q[::-1]:\n",
    "    \n",
    "        b=\"\"\n",
    "        for x in p[::-1]:\n",
    "            b += str(int(y)*int(x))\n",
    "            \n",
    "        b = b[::-1].ljust(len(b) + count, \"0\")\n",
    "#         print(count, a, b)\n",
    "        if(count==0):\n",
    "            a=b\n",
    "        else:\n",
    "            a = add_GF(a, b)\n",
    "        \n",
    "        count += 1\n",
    "#         print(\"\\t a= \", a)\n",
    "        \n",
    "#     print(\"end: \",a)\n",
    "            \n",
    "    return a"
   ]
  },
  {
   "cell_type": "code",
   "execution_count": 7,
   "metadata": {},
   "outputs": [
    {
     "name": "stdout",
     "output_type": "stream",
     "text": [
      "True\n",
      "True\n",
      "True\n"
     ]
    }
   ],
   "source": [
    "print(multiply('10','1')=='10')\n",
    "print(multiply('10','10')=='100')\n",
    "print(multiply('110','11')=='1010')"
   ]
  },
  {
   "cell_type": "markdown",
   "metadata": {},
   "source": [
    "## Zadanie 3 (2 pkt.)"
   ]
  },
  {
   "cell_type": "markdown",
   "metadata": {},
   "source": [
    "Zaimplementuj funkcję **divide(p,q)**, która dla wielomianów $p$ i $q$ zwraca wynik dzielenie $p$ przez $q$ wraz z resztą. Jak dzielić wielomiany z resztą przypomnij sobie ze szkoły średniej, tu będzie tak samo tylko trzeba pamietać, że współczynniki w naszych wielomianach należą do ciała $GF(2)$. Może być wygodne również zauważenie, że w przypadku $GF(2)$ dodawanie jest tożsame z odejmownaniem, tj. dla $a,b\\in GF(2)$ mamy $a+b=a-b$ zatem w schemacie pisemnego mnożenia wielomianów możemy dodawać zamiast odejmować."
   ]
  },
  {
   "cell_type": "code",
   "execution_count": 8,
   "metadata": {},
   "outputs": [],
   "source": [
    "def divide(p,q):\n",
    "    q = q.lstrip(\"0\")\n",
    "    p = p.zfill(len(q))\n",
    "    result = \"\"\n",
    "    dzielnik = p[:len(q)-1]\n",
    "    for a in p[len(q)-1:]:\n",
    "#         print(a)\n",
    "        dzielnik += a\n",
    "        result_a = bin((int(dzielnik[0]) + int(q[0]))//2)[2:] #calkowita\n",
    "        result += result_a #dodanie do wyniku\n",
    "        mult_a = multiply(result_a, q) # pomnozenie przez q \n",
    "        rest = add_GF(dzielnik, mult_a) #odjecie od p przemnozonej wartosci q\n",
    "#         print(dzielnik, q[0], result_a, mult_a, rest)\n",
    "        dzielnik = rest.zfill(len(q)-1) #uzupelniamy 0 zeby nie zgubic najwiekszego stopnia wielomianu przy następnym porównaniu\n",
    "    \n",
    "#     print(result, rest)    \n",
    "    return (result, rest)    "
   ]
  },
  {
   "cell_type": "code",
   "execution_count": 9,
   "metadata": {
    "scrolled": true
   },
   "outputs": [
    {
     "name": "stdout",
     "output_type": "stream",
     "text": [
      "True\n",
      "True\n",
      "True\n"
     ]
    }
   ],
   "source": [
    "print(divide('1011','11')==('110','1'))\n",
    "print(divide('1010','110')==('11','0'))\n",
    "print(divide('1111','10')==('111','1'))"
   ]
  },
  {
   "cell_type": "code",
   "execution_count": 10,
   "metadata": {},
   "outputs": [
    {
     "name": "stdout",
     "output_type": "stream",
     "text": [
      "('1111011', '1')\n"
     ]
    }
   ],
   "source": [
    "print(divide('100011011','00000110'))"
   ]
  },
  {
   "cell_type": "code",
   "execution_count": 11,
   "metadata": {},
   "outputs": [
    {
     "name": "stdout",
     "output_type": "stream",
     "text": [
      "('11110110', '1')\n"
     ]
    }
   ],
   "source": [
    "print(divide('100011011','00000011'))"
   ]
  },
  {
   "cell_type": "markdown",
   "metadata": {},
   "source": [
    "## Zadanie 4 (1 pkt.)"
   ]
  },
  {
   "cell_type": "markdown",
   "metadata": {},
   "source": [
    "Teraz możemy przejść do mnożenia w ciele $GF(2^n)$. Jest to zwykłe mnożenie wielomianów (funkcja **multiply()**) ale dodatkowo musimy wykonać dzielenie z resztą (funkcja **divide()**) przez pewien nieredukowalny wielomian, i ostatecznym wynikiem jest właśnie reszta z tego dzielenia. Wielomian ten można wybrać na wiele sposobów.\n",
    "\n",
    "Skupmy się więc od teraz na przypadku, który nas najbardziej interesuje czyli ciele Galois używanym w przypadku szyfrowania AES, któym będziemy się zajmować. Ciałem tym jest $GF(2^8)$ z wielomianem nieredukowalnym $x^8+x^4+x^3+x+1$.\n",
    "\n",
    "Zaimplementuj funkcję **multiply_GF(p,q)**, która dla wielomianów $p$, $q$ zwraca wynika mnożenia $p\\odot q$ w ciele $GF(2^8)$ z wielomianem nieredukowalnym $x^8+x^4+x^3+x+1$."
   ]
  },
  {
   "cell_type": "code",
   "execution_count": 12,
   "metadata": {},
   "outputs": [],
   "source": [
    "wiel8 = m = \"100011011\""
   ]
  },
  {
   "cell_type": "code",
   "execution_count": 13,
   "metadata": {},
   "outputs": [],
   "source": [
    "def multiply_GF(p,q):\n",
    "    mult = multiply(p, q)\n",
    "    result = divide(mult, wiel8)[1]\n",
    "#     print(\"div, rest: \", mult, result)\n",
    "    return result"
   ]
  },
  {
   "cell_type": "code",
   "execution_count": 14,
   "metadata": {},
   "outputs": [
    {
     "name": "stdout",
     "output_type": "stream",
     "text": [
      "True\n",
      "True\n",
      "True\n",
      "True\n"
     ]
    }
   ],
   "source": [
    "print(multiply_GF('1101','1')=='1101')\n",
    "print(multiply_GF('1101','10')=='11010')\n",
    "print(multiply_GF('10000000','10')=='11011')\n",
    "print(multiply_GF('11100101','1010')=='10111000')"
   ]
  },
  {
   "cell_type": "markdown",
   "metadata": {},
   "source": [
    "## Zadanie 5 (2 pkt.)"
   ]
  },
  {
   "cell_type": "markdown",
   "metadata": {},
   "source": [
    "Potrafimy mnożyć już wielomiany w ciele $GF(2^8)$, chcielibyśmy też umieć znajdować do danego elementu $p$ element odwrotny $q$, to jest taki, że $p\\odot q=1$. Aby to zrobić będziemy musieli skorzystać z Rozszerzonego Algorytmu Euklidesa (EEA), algorytm ten dla danych liczb całkowitych $a$ i $b$ znajduje takie liczby całkowite $c$ i $d$, że:\n",
    "\n",
    "$$ac+bd=NWD(a,b)$$\n",
    "gdzie $NWD$ to największy wspólny dzielnik.\n",
    "\n",
    "Ten sam algorytm możemy użyć w odniesieniu do elementów ciała $GF(2^8)$, wystarczy wszystkie operacje dodawania, mnożenia i dzielenia z resztą używane w tym algorytmie zastąpić operacjami **add_GF()**, **multiply_GF()**, **divide()**.\n",
    "\n",
    "Zaimplementuj funkcję **EEA_GF(p,q)**, która dla wielomianów $p$, $q$ zwraca wielomiany $s$ i $t$ takie, że $s\\odot p\\oplus t\\odot q=NWD(p,q)$."
   ]
  },
  {
   "cell_type": "code",
   "execution_count": 32,
   "metadata": {},
   "outputs": [],
   "source": [
    "def EEA_GF(a, b):\n",
    "\n",
    "    if(len(a) < len(b)):\n",
    "        temp = a\n",
    "        a = b\n",
    "        b = temp\n",
    "    \n",
    "#     print(\"a,b = \", a, b)\n",
    "    s = None\n",
    "    s2 = \"1\"\n",
    "    s1 = \"0\"\n",
    "    \n",
    "    t = None\n",
    "    t2 = \"0\"\n",
    "    t1 = \"1\"\n",
    "        \n",
    "    if(int(b,2)==1): #?? chyba tak dla b = 1 -> nwd =1\n",
    "        div = divide(a, b)\n",
    "#         print(\"div = \", div)\n",
    "        q = div[0]\n",
    "\n",
    "        r = div[1]\n",
    "        a = b\n",
    "        b = r\n",
    "\n",
    "        s = add_GF(s2, multiply_GF(q, s1))\n",
    "        s2=s1\n",
    "        s1=s\n",
    "        \n",
    "        t = add_GF(t2, multiply_GF(q, t1))\n",
    "        t2=t1\n",
    "        t1=t\n",
    "    \n",
    "    while(int(b,2) < int(a,2) and int(b,2)>1):\n",
    "        div = divide(a, b)\n",
    "#         print(\"div = \", div)\n",
    "        q = div[0]\n",
    "\n",
    "        r = div[1]\n",
    "        a = b\n",
    "        b = r\n",
    "\n",
    "        s = add_GF(s2, multiply_GF(q, s1))\n",
    "        s2=s1\n",
    "        s1=s\n",
    "        \n",
    "        t = add_GF(t2, multiply_GF(q, t1))\n",
    "        t2=t1\n",
    "        t1=t\n",
    "        \n",
    "#     print(s, t)\n",
    "    return(s, t)"
   ]
  },
  {
   "cell_type": "code",
   "execution_count": 33,
   "metadata": {},
   "outputs": [
    {
     "name": "stdout",
     "output_type": "stream",
     "text": [
      "a,b =  11010101 10010111\n",
      "True\n",
      "a,b =  11110000 11001011\n",
      "True\n"
     ]
    }
   ],
   "source": [
    "print(EEA_GF('11010101','10010111')==('11001', '10100'))\n",
    "print(EEA_GF('11110000','11001011')==('1000000', '1010111'))"
   ]
  },
  {
   "cell_type": "markdown",
   "metadata": {},
   "source": [
    "## Zadanie 6 (1 pkt.)"
   ]
  },
  {
   "cell_type": "markdown",
   "metadata": {},
   "source": [
    "Korzytsając z Rozszerzonego Algorytmu Euklidesa (EEA) możemy znajdować wielomian odwrotny do danego. Pozostańmy przy naszym przypadku ciała $GF(2^8)$ z wielomianem nieredukowalnym $m=x^8+x^4+x^3+x+1$. Weźmy dowolny wielomian $p\\in GF(2^8)$. Korzystając z EEA możemy znaleźć takie $s$ i $t$, że $$s\\odot p\\oplus t\\odot m=NWD(p,m)$$\n",
    "\n",
    "ponieważ $m$ jest nieredukowalny to $NWD(p,m)=1$ a zatem\n",
    "\n",
    "$$s\\odot p\\oplus t\\odot m=1$$\n",
    "\n",
    "poza tym zauważmy, że $t\\odot m=0$, bo przy wykonywaniu działania $\\odot$ dzielimy modulo własnie przez $m$ więc reszta z tego dzielenia jest zerem. Zatem:\n",
    "\n",
    "$$s\\odot p=1$$\n",
    "\n",
    "czyli znaleźliśmy element odwrotny do $p$, jest nim $s$, czyli jeden z wielomianów, które zwraca algorytm $EEA$.\n",
    "\n",
    "Napisz funkcję zwracjącą odwrotność podanego wielomianu, korzystającą z funkcji **EEA_GF()**"
   ]
  },
  {
   "cell_type": "code",
   "execution_count": 17,
   "metadata": {},
   "outputs": [],
   "source": [
    "def inverse_GF(p):\n",
    "    if(int(p,2) == 0):\n",
    "        return p\n",
    "    \n",
    "    s, t = EEA_GF(p, m)\n",
    "\n",
    "    s_check = multiply_GF(p, s) #jak wyszła jedynka to zwracamy wielomian s, jak nie to ten drugi, bo innej opcji nie ma\n",
    "    \n",
    "#     print(\"s, t\", s, t)\n",
    "#     print(\"check s & t: \", multiply_GF(p, s), multiply_GF(p, t))\n",
    "    if(s_check == '1'):\n",
    "        return s\n",
    "    \n",
    "    return t"
   ]
  },
  {
   "cell_type": "code",
   "execution_count": 18,
   "metadata": {},
   "outputs": [
    {
     "name": "stdout",
     "output_type": "stream",
     "text": [
      "True\n",
      "True\n"
     ]
    }
   ],
   "source": [
    "print(inverse_GF('11001010')=='1010011')\n",
    "print(inverse_GF('1100101')=='10100110')"
   ]
  },
  {
   "cell_type": "markdown",
   "metadata": {},
   "source": [
    "## Zadanie 7 (2 pkt.)"
   ]
  },
  {
   "cell_type": "markdown",
   "metadata": {},
   "source": [
    "Na poprzedniej liście dotyczącej DES-a używaliśmy S-Boxa. W przypadku AES-a również jest używany odpowiedni S-Box, zamienia on ciąg 8 bitów na inny ciąg 8 bitów. Poniżej widzimy gotową postać tego S-Boxa. Mając dane 8 bitów (np. '01010110') dzielimy je na dwie grupy ('0101' i '0110'), zamieniając je na liczbę dziesiętną otrzymujemy numer wiersza oraz kolumny (5 i 6), z których odczytujemy wynik ('b1'), który jest zapisany w postaci szesnastkowej, zamieniamy go więc na binarną ('10110001') i to jest ciąg bitów, którym zastępujemy wejściowy.\n",
    "\n",
    "W przypadku DES-a S-Box był dany jako element specyfikacji, tutaj natomiast S-Box wynika z teorii ciał Galois i możemy go wyprowadzić, tego dotyczy właśnie to zadanie. Operacje, które stoją za działaniem S-Boxa są następujące. Bierzemy wejściowy ciąg 8 bitów $p$ następnie obliczamy jego odwrotność w ciele Galois (funkcja **inverse_GF()**) to co otrzymujemy oznaczmy $p^{-1}$, następnie dokonujemy transformacji afinicznej za pomocą macierzy $A$ oraz wektora $v$\n",
    "\n",
    "$$q=Ap^{-1}+v$$\n",
    "\n",
    "gdzie mamy iloczyn macierzy i wektora ($p$ traktujemy jako wektor bitów, bez zmiany kolejności, tj. $p=[p_7, p_6, ..., p_0]$ ) oraz sumę wektorów, przy czym operacje na bitach wykonujemy w ramach ciała $GF(2)$. Otrzymany ciąg bitów $q$ jest naszym wynikiem, ten ciąg właśnie znajduje się na odpowiendnim dla $p$ miejscu S-Boxa.\n",
    "\n",
    "Uwaga: wektor $p=(0,0,0,0,0,0,0,0)$ nie ma odwrotności w ciele $GF(2^8)$ bo jest wektorem zerowym a ciało tworzy grupę ze względu na mnożenie dla wszystkich elementów poza zerowym (czyli tym, który jest elementem neutralnym w działaniu dodawania) w ramach algorytmu AES przyjmujemy, że $p^{-1}$ jest też wektorem zerowym ($p^{-1}=(0,0,0,0,0,0,0,0)$).\n",
    "\n",
    "Napisz funkcję **substitute(p)**, ktore przyjmuje ciąg bitów i zwraca ciąg (reprezentowany przez dwie cyfry szesnastkowe) wynikający z powyższej transformacji. A następnie wygeneruj za jej pomocą S-Box, sprawdź czy wyszedł taki jak poniżej, użyj funkcji **bin2hex()** aby zamienić ciągi bitów na zapis szesnastkowy."
   ]
  },
  {
   "cell_type": "code",
   "execution_count": 19,
   "metadata": {},
   "outputs": [],
   "source": [
    "SBox=[['63', '7c', '77', '7b', 'f2', '6b', '6f', 'c5', '30', '01', '67', '2b', 'fe', 'd7', 'ab', '76'],\n",
    "      ['ca', '82', 'c9', '7d', 'fa', '59', '47', 'f0', 'ad', 'd4', 'a2', 'af', '9c', 'a4', '72', 'c0'],\n",
    "      ['b7', 'fd', '93', '26', '36', '3f', 'f7', 'cc', '34', 'a5', 'e5', 'f1', '71', 'd8', '31', '15'],\n",
    "      ['04', 'c7', '23', 'c3', '18', '96', '05', '9a', '07', '12', '80', 'e2', 'eb', '27', 'b2', '75'],\n",
    "      ['09', '83', '2c', '1a', '1b', '6e', '5a', 'a0', '52', '3b', 'd6', 'b3', '29', 'e3', '2f', '84'],\n",
    "      ['53', 'd1', '00', 'ed', '20', 'fc', 'b1', '5b', '6a', 'cb', 'be', '39', '4a', '4c', '58', 'cf'],\n",
    "      ['d0', 'ef', 'aa', 'fb', '43', '4d', '33', '85', '45', 'f9', '02', '7f', '50', '3c', '9f', 'a8'],\n",
    "      ['51', 'a3', '40', '8f', '92', '9d', '38', 'f5', 'bc', 'b6', 'da', '21', '10', 'ff', 'f3', 'd2'],\n",
    "      ['cd', '0c', '13', 'ec', '5f', '97', '44', '17', 'c4', 'a7', '7e', '3d', '64', '5d', '19', '73'],\n",
    "      ['60', '81', '4f', 'dc', '22', '2a', '90', '88', '46', 'ee', 'b8', '14', 'de', '5e', '0b', 'db'],\n",
    "      ['e0', '32', '3a', '0a', '49', '06', '24', '5c', 'c2', 'd3', 'ac', '62', '91', '95', 'e4', '79'],\n",
    "      ['e7', 'c8', '37', '6d', '8d', 'd5', '4e', 'a9', '6c', '56', 'f4', 'ea', '65', '7a', 'ae', '08'],\n",
    "      ['ba', '78', '25', '2e', '1c', 'a6', 'b4', 'c6', 'e8', 'dd', '74', '1f', '4b', 'bd', '8b', '8a'],\n",
    "      ['70', '3e', 'b5', '66', '48', '03', 'f6', '0e', '61', '35', '57', 'b9', '86', 'c1', '1d', '9e'],\n",
    "      ['e1', 'f8', '98', '11', '69', 'd9', '8e', '94', '9b', '1e', '87', 'e9', 'ce', '55', '28', 'df'],\n",
    "      ['8c', 'a1', '89', '0d', 'bf', 'e6', '42', '68', '41', '99', '2d', '0f', 'b0', '54', 'bb', '16']]"
   ]
  },
  {
   "cell_type": "code",
   "execution_count": 20,
   "metadata": {},
   "outputs": [],
   "source": [
    "A=[[1, 1, 1, 1, 1, 0, 0, 0],\n",
    "   [0, 1, 1, 1, 1, 1, 0, 0],\n",
    "   [0, 0, 1, 1, 1, 1, 1, 0],\n",
    "   [0, 0, 0, 1, 1, 1, 1, 1],\n",
    "   [1, 0, 0, 0, 1, 1, 1, 1],\n",
    "   [1, 1, 0, 0, 0, 1, 1, 1],\n",
    "   [1, 1, 1, 0, 0, 0, 1, 1],\n",
    "   [1, 1, 1, 1, 0, 0, 0, 1]]\n",
    "\n",
    "v=[0, 1, 1, 0, 0, 0, 1, 1]"
   ]
  },
  {
   "cell_type": "code",
   "execution_count": 21,
   "metadata": {},
   "outputs": [],
   "source": [
    "def substitute(p):\n",
    "    row = int(p[:4], 2)\n",
    "    col = int(p[4:], 2)\n",
    "    return SBox[row][col]"
   ]
  },
  {
   "cell_type": "code",
   "execution_count": 22,
   "metadata": {},
   "outputs": [
    {
     "name": "stdout",
     "output_type": "stream",
     "text": [
      "True\n",
      "True\n",
      "True\n",
      "True\n"
     ]
    }
   ],
   "source": [
    "print(substitute('11010101')=='03')\n",
    "print(substitute('01010001')=='d1')\n",
    "print(substitute('11011101')=='c1')\n",
    "print(substitute('11101100')=='ce')"
   ]
  },
  {
   "cell_type": "code",
   "execution_count": 23,
   "metadata": {},
   "outputs": [],
   "source": [
    "s_box=[]#zmienna zawierająca utworzony S-Box\n",
    "s_box = [[0 for x in range(16)] for y in range(16)]\n",
    "\n",
    "countwrong = 0\n",
    "for i in range(0, 256):\n",
    "    p = bin(i)[2:].zfill(8)\n",
    "    p_odw = inverse_GF(p).zfill(8)\n",
    "#     print(i, p, p_odw)\n",
    "    ap = \"\"\n",
    "    for a in A:\n",
    "        count = 0\n",
    "        for (x, y) in zip(a, p_odw):\n",
    "            if(x == 1 and y == '1'):\n",
    "                count += 1\n",
    "                \n",
    "        ap += str(count%2)\n",
    "        \n",
    "    v = \"\".join(str(val) for val in v)\n",
    "    q = add_GF(ap, v)\n",
    "    sboxq = bin2hex(q, 2)\n",
    "    \n",
    "    row = int(p[:4], 2)\n",
    "    col = int(p[4:], 2)\n",
    "    s_box[row][col] = str(sboxq)\n",
    "    if(SBox[row][col] != str(sboxq)):\n",
    "        countwrong += 1\n"
   ]
  },
  {
   "cell_type": "code",
   "execution_count": 24,
   "metadata": {},
   "outputs": [
    {
     "name": "stdout",
     "output_type": "stream",
     "text": [
      "wrong: 0\n"
     ]
    }
   ],
   "source": [
    "print(\"wrong:\" ,countwrong  )"
   ]
  },
  {
   "cell_type": "code",
   "execution_count": 25,
   "metadata": {},
   "outputs": [
    {
     "name": "stdout",
     "output_type": "stream",
     "text": [
      "True\n"
     ]
    }
   ],
   "source": [
    "print(s_box==SBox)"
   ]
  }
 ],
 "metadata": {
  "kernelspec": {
   "display_name": "Python 3",
   "language": "python",
   "name": "python3"
  },
  "language_info": {
   "codemirror_mode": {
    "name": "ipython",
    "version": 3
   },
   "file_extension": ".py",
   "mimetype": "text/x-python",
   "name": "python",
   "nbconvert_exporter": "python",
   "pygments_lexer": "ipython3",
   "version": "3.6.9"
  },
  "vscode": {
   "interpreter": {
    "hash": "96ad6c7fd9d06889208fc918e485ee5403ac6f6c27ad3f857e9a26d0c3a3092d"
   }
  }
 },
 "nbformat": 4,
 "nbformat_minor": 4
}
